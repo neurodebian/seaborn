{
 "metadata": {
  "name": ""
 },
 "nbformat": 3,
 "nbformat_minor": 0,
 "worksheets": [
  {
   "cells": [
    {
     "cell_type": "raw",
     "metadata": {},
     "source": [
      ".. _axis_grids:\n",
      "\n",
      ".. currentmodule:: seaborn"
     ]
    },
    {
     "cell_type": "heading",
     "level": 1,
     "metadata": {},
     "source": [
      "Plotting on data-aware grids"
     ]
    },
    {
     "cell_type": "raw",
     "metadata": {},
     "source": [
      "When exploring medium-dimensional data, a useful approach is to draw multiple instances of the same plot on different subsets of your dataset. This technique is sometimes called either \"lattice\", or `\"trellis\" <http://netlib.bell-labs.com/cm/ms/departments/sia/project/trellis>`_ plotting, and it is related to the idea of `\"small multiples\" <http://en.wikipedia.org/wiki/Small_multiple>`_. It allows the viewer to quickly extract a large amount of information about complex data. Matplotlib offers good support for making figures with multiple axes; seaborn builds on top of this to directly link the structure of the plot to the structure of your dataset.\n",
      "\n",
      "To use these features, your data has to be in a Pandas DataFrame and it must take the form of what Hadley Whickam calls `\"tidy\" data <http://vita.had.co.nz/papers/tidy-data.pdf>`_. In brief, that means your dataframe should be structured such that each column is a variable and each row is an observation."
     ]
    },
    {
     "cell_type": "code",
     "collapsed": false,
     "input": [
      "import numpy as np\n",
      "import pandas as pd\n",
      "import seaborn as sns\n",
      "from scipy import stats\n",
      "import matplotlib as mpl\n",
      "import matplotlib.pyplot as plt"
     ],
     "language": "python",
     "metadata": {},
     "outputs": [],
     "prompt_number": null
    },
    {
     "cell_type": "code",
     "collapsed": false,
     "input": [
      "sns.set(style=\"white\")\n",
      "np.random.seed(sum(map(ord, \"axis_grids\")))"
     ],
     "language": "python",
     "metadata": {},
     "outputs": [],
     "prompt_number": null
    },
    {
     "cell_type": "raw",
     "metadata": {},
     "source": [
      ".. _facet_grid:\n",
      "\n",
      "Subsetting data with :class:`FacetGrid`\n",
      "---------------------------------------\n",
      "\n",
      "The :class:`FacetGrid` class is useful when you want to visualize the distribution of a variable or the relationship between multiple variables separately within subsets of your dataset. A :class:`FacetGrid` can be drawn with up to three dimensions: ``row``, ``col``, and ``hue``. The first two have obvious correspondence with the resulting array of axes; think of the hue variable as a third dimension along a depth axis, where different levels are plotted with different colors.\n",
      "\n",
      "The class is used by initializing a :class:`FacetGrid` object with a dataframe and the names of the variables that will form the row, column, or hue dimensions of the grid. These variables should be categorical or discrete, and then the data at each level of the variable will be used for a facet along that axis. For example, say we wanted to examine differences between lunch and dinner in the ``tips`` dataset."
     ]
    },
    {
     "cell_type": "code",
     "collapsed": false,
     "input": [
      "tips = sns.load_dataset(\"tips\")"
     ],
     "language": "python",
     "metadata": {},
     "outputs": [],
     "prompt_number": null
    },
    {
     "cell_type": "code",
     "collapsed": false,
     "input": [
      "g = sns.FacetGrid(tips, col=\"time\")"
     ],
     "language": "python",
     "metadata": {},
     "outputs": [],
     "prompt_number": null
    },
    {
     "cell_type": "raw",
     "metadata": {},
     "source": [
      "Initializing the grid like this sets up the matplotlib figure and axes, but doesn't draw anything on them.\n",
      "\n",
      "The main approach for visualizing data on this grid is with the :meth:`FacetGrid.map` method. Provide it with a plotting function and the name(s) of variable(s) in the dataframe to plot. Let's look at the distribution of tips in each of these subsets, using a histogram."
     ]
    },
    {
     "cell_type": "code",
     "collapsed": false,
     "input": [
      "g = sns.FacetGrid(tips, col=\"time\")\n",
      "g.map(plt.hist, \"tip\");"
     ],
     "language": "python",
     "metadata": {},
     "outputs": [],
     "prompt_number": null
    },
    {
     "cell_type": "raw",
     "metadata": {},
     "source": [
      "This function will draw the figure and annotate the axes, hopefully producing a finished plot in one step. To make a relational plot, just pass multiple variable names. You can also provide keyword arguments, which will be passed to the plotting function:"
     ]
    },
    {
     "cell_type": "code",
     "collapsed": false,
     "input": [
      "g = sns.FacetGrid(tips, col=\"sex\", hue=\"smoker\")\n",
      "g.map(plt.scatter, \"total_bill\", \"tip\", alpha=.7);"
     ],
     "language": "python",
     "metadata": {},
     "outputs": [],
     "prompt_number": null
    },
    {
     "cell_type": "raw",
     "metadata": {},
     "source": [
      "There are several options for controlling the look of the grid that can be passed to the class constructor."
     ]
    },
    {
     "cell_type": "code",
     "collapsed": false,
     "input": [
      "g = sns.FacetGrid(tips, row=\"smoker\", col=\"time\", margin_titles=True)\n",
      "g.map(sns.regplot, \"size\", \"total_bill\", color=\".3\", fit_reg=False, x_jitter=.1);"
     ],
     "language": "python",
     "metadata": {},
     "outputs": [],
     "prompt_number": null
    },
    {
     "cell_type": "raw",
     "metadata": {},
     "source": [
      "Note that ``margin_titles`` isn't formally supported by the matplotlib API, and may not work well in all cases. (Please open an issue when it doesn't, though, to help it improve).\n",
      "\n",
      "The size of the figure is set by providing the height of the facets and the aspect ratio:"
     ]
    },
    {
     "cell_type": "code",
     "collapsed": false,
     "input": [
      "g = sns.FacetGrid(tips, col=\"day\", size=4, aspect=.5)\n",
      "g.map(sns.barplot, \"sex\", \"total_bill\");"
     ],
     "language": "python",
     "metadata": {},
     "outputs": [],
     "prompt_number": null
    },
    {
     "cell_type": "raw",
     "metadata": {},
     "source": [
      "By default, the facets are plotted in the sorted order of the unique values for each variable, but you can specify an order:"
     ]
    },
    {
     "cell_type": "code",
     "collapsed": false,
     "input": [
      "days = [\"Thur\", \"Fri\", \"Sat\", \"Sun\"]\n",
      "g = sns.FacetGrid(tips, row=\"day\", hue=\"day\", palette=\"Greens_d\",\n",
      "                  size=1.7, aspect=4, hue_order=days, row_order=days)\n",
      "g.map(sns.distplot, \"total_bill\");"
     ],
     "language": "python",
     "metadata": {},
     "outputs": [],
     "prompt_number": null
    },
    {
     "cell_type": "raw",
     "metadata": {},
     "source": [
      "Any seaborn color palette (i.e., someting that can be passed to :func:`color_palette()` can be provided. You can also use a dictionary that maps the names of values in the ``hue`` variable to valid matplotlib colors:"
     ]
    },
    {
     "cell_type": "code",
     "collapsed": false,
     "input": [
      "pal = dict(Lunch=\"seagreen\", Dinner=\"gray\")\n",
      "g = sns.FacetGrid(tips, hue=\"time\", palette=pal, size=5)\n",
      "g.map(plt.scatter, \"total_bill\", \"tip\", s=50, alpha=.7, linewidth=.5, edgecolor=\"white\");"
     ],
     "language": "python",
     "metadata": {},
     "outputs": [],
     "prompt_number": null
    },
    {
     "cell_type": "raw",
     "metadata": {},
     "source": [
      "If you have many levels of one variable, you can plot it along the columns but \"wrap\" them so that they span multiple rows. When doing this, you cannot use a ``row`` variable."
     ]
    },
    {
     "cell_type": "code",
     "collapsed": false,
     "input": [
      "attend = sns.load_dataset(\"attention\").query(\"subject <= 12\")\n",
      "g = sns.FacetGrid(attend, col=\"subject\", col_wrap=4, size=2, ylim=(0, 10))\n",
      "g.map(sns.pointplot, \"solutions\", \"score\", color=\".3\", ci=None);"
     ],
     "language": "python",
     "metadata": {},
     "outputs": [],
     "prompt_number": null
    },
    {
     "cell_type": "raw",
     "metadata": {},
     "source": [
      "Once you've drawn a plot using :meth:`FacetGrid.map` (which can be called multiple times), you may want to adjust some aspects of the plot. You can do this by directly calling methods on the matplotlib ``Figure`` and ``Axes`` objects, which are stored as member attributes at ``fig`` and ``axes`` (a two-dimensional array), respectively.\n",
      "\n",
      "\n",
      "There are also a number of methods on the :class:`FacetGrid` object for manipulating the figure at a higher level of abstraction. The most general is :meth:`FacetGrid.set`, and there are other more specialized methods like :meth:`FacetGrid.set_axis_labels`. For example:"
     ]
    },
    {
     "cell_type": "code",
     "collapsed": false,
     "input": [
      "g = sns.FacetGrid(tips, row=\"sex\", col=\"smoker\", margin_titles=True, size=2.5)\n",
      "g.map(plt.scatter, \"total_bill\", \"tip\", color=\"#334488\", edgecolor=\"white\", lw=.5);\n",
      "g.set_axis_labels(\"Total bill (US Dollars)\", \"Tip\");\n",
      "g.set(xticks=[10, 30, 50], yticks=[2, 6, 10]);\n",
      "g.fig.subplots_adjust(wspace=.02, hspace=.02);"
     ],
     "language": "python",
     "metadata": {},
     "outputs": [],
     "prompt_number": null
    },
    {
     "cell_type": "raw",
     "metadata": {},
     "source": [
      "Both the :func:`lmplot` and :func:`factorplot` function use :class:`FacetGrid` internally and return the object they have plotted on for additional tweaking."
     ]
    },
    {
     "cell_type": "raw",
     "metadata": {},
     "source": [
      ".. _joint_grid:\n",
      "\n",
      "Plotting bivariate data with :class:`JointGrid`\n",
      "-----------------------------------------------\n",
      "\n",
      "The :class:`JointGrid` can be used when you want to plot the relationship between or joint distribution of two variables along with the marginal distribution of each variable.\n",
      "\n",
      "Like :class:`FacetGrid`, initializing the object sets up the axes but does not plot anything:"
     ]
    },
    {
     "cell_type": "code",
     "collapsed": false,
     "input": [
      "g = sns.JointGrid(\"total_bill\", \"tip\", tips)"
     ],
     "language": "python",
     "metadata": {},
     "outputs": [],
     "prompt_number": null
    },
    {
     "cell_type": "raw",
     "metadata": {},
     "source": [
      "The easiest way to use :class:`JointPlot` is to call :meth:`JointPlot.plot` with three arguments: a function to draw a bivariate plot, a function to draw a univariate plot, and a function to calculate a statistic that summarizes the relationship."
     ]
    },
    {
     "cell_type": "code",
     "collapsed": false,
     "input": [
      "g = sns.JointGrid(\"total_bill\", \"tip\", tips)\n",
      "g.plot(sns.regplot, sns.distplot, stats.pearsonr);"
     ],
     "language": "python",
     "metadata": {},
     "outputs": [],
     "prompt_number": null
    },
    {
     "cell_type": "raw",
     "metadata": {},
     "source": [
      "For more flexibility, you can use the separate methods :meth:`JointGrid.plot_joint`, :meth:`JointGrid.plot_marginals`, and :meth:`JointGrid.annotate`:"
     ]
    },
    {
     "cell_type": "code",
     "collapsed": false,
     "input": [
      "g = sns.JointGrid(\"total_bill\", \"tip\", tips)\n",
      "g.plot_marginals(sns.distplot, kde=False, color=\"silver\")\n",
      "g.plot_joint(plt.scatter, color=\"silver\", edgecolor=\"white\")\n",
      "g.annotate(stats.spearmanr, template=\"{stat} = {val:.3f} (p = {p:.3g})\");"
     ],
     "language": "python",
     "metadata": {},
     "outputs": [],
     "prompt_number": null
    },
    {
     "cell_type": "raw",
     "metadata": {},
     "source": [
      "To control the presentation of the grid, use the ``size`` and ``ratio`` arguments. These control the size of the full figure (which is always square) and the ratio of the joint axes height to the marginal axes height:"
     ]
    },
    {
     "cell_type": "code",
     "collapsed": false,
     "input": [
      "g = sns.JointGrid(\"total_bill\", \"tip\", tips, size=4, ratio=30)\n",
      "color = \"#228833\"\n",
      "g.plot_marginals(sns.rugplot, color=color, alpha=.7, lw=1)\n",
      "g.plot_joint(plt.scatter, color=color, alpha=.7, marker=\".\");"
     ],
     "language": "python",
     "metadata": {},
     "outputs": [],
     "prompt_number": null
    },
    {
     "cell_type": "raw",
     "metadata": {},
     "source": [
      "The ``space`` keyword argument controls the amount of padding between the axes with the joint plot and the two marginal axes:"
     ]
    },
    {
     "cell_type": "code",
     "collapsed": false,
     "input": [
      "g = sns.JointGrid(\"total_bill\", \"tip\", tips, space=0)\n",
      "g.plot_marginals(sns.kdeplot, shade=True)\n",
      "g.plot_joint(sns.kdeplot, shade=True, cmap=\"PuBu\", n_levels=40);"
     ],
     "language": "python",
     "metadata": {},
     "outputs": [],
     "prompt_number": null
    },
    {
     "cell_type": "raw",
     "metadata": {},
     "source": [
      "The :func:`jointplot` function can draw a nice-looking plot with a single line of code:"
     ]
    },
    {
     "cell_type": "code",
     "collapsed": false,
     "input": [
      "sns.jointplot(\"total_bill\", \"tip\", tips);"
     ],
     "language": "python",
     "metadata": {},
     "outputs": [],
     "prompt_number": null
    },
    {
     "cell_type": "raw",
     "metadata": {},
     "source": [
      "It can draw several different kinds of plots, with good defaults chosen for each:"
     ]
    },
    {
     "cell_type": "code",
     "collapsed": false,
     "input": [
      "sns.jointplot(\"total_bill\", \"tip\", tips, kind=\"hex\", color=\"#8855AA\");"
     ],
     "language": "python",
     "metadata": {},
     "outputs": [],
     "prompt_number": null
    },
    {
     "cell_type": "raw",
     "metadata": {},
     "source": [
      "In many cases, :func:`jointplot` should be sufficient for exploratory graphics, but it may easier to use :class:`JointGrid` directly when you need more flexibility than is offered by the canned styles of :func:`jointplot`."
     ]
    }
   ],
   "metadata": {}
  }
 ]
}