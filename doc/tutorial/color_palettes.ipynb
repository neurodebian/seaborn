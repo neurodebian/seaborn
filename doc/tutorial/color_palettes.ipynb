{
 "metadata": {
  "name": "",
  "signature": "sha256:c251765620311b0785c5e2fb072fb69cd349e4e94bed46e2aa6b1f3465980e41"
 },
 "nbformat": 3,
 "nbformat_minor": 0,
 "worksheets": [
  {
   "cells": [
    {
     "cell_type": "raw",
     "metadata": {
      "raw_mimetype": "text/restructuredtext"
     },
     "source": [
      ".. _palette_tutorial:\n",
      "\n",
      ".. currentmodule:: seaborn"
     ]
    },
    {
     "cell_type": "heading",
     "level": 1,
     "metadata": {},
     "source": [
      "Choosing color palettes"
     ]
    },
    {
     "cell_type": "raw",
     "metadata": {
      "raw_mimetype": "text/restructuredtext"
     },
     "source": [
      "Color is even more important than other aspects of figure style, because color can reveal patterns in the data if used effectively or hide those patterns if used poorly. There are a number of great resources to learn about good techniques for using color in visualizations, I am partial to this `series of blog posts <http://earthobservatory.nasa.gov/blogs/elegantfigures/2013/08/05/subtleties-of-color-part-1-of-6/>`_ from Rob Simmon and this `more technical paper <http://www.sandia.gov/~kmorel/documents/ColorMaps/ColorMapsExpanded.pdf>`_.\n",
      "\n",
      "Seaborn makes it easy to select and use color palettes that are suited to the kind of data you are working with and the goals you have in visualizing it."
     ]
    },
    {
     "cell_type": "code",
     "collapsed": false,
     "input": [
      "%matplotlib inline"
     ],
     "language": "python",
     "metadata": {},
     "outputs": [],
     "prompt_number": null
    },
    {
     "cell_type": "code",
     "collapsed": false,
     "input": [
      "import numpy as np\n",
      "import seaborn as sns\n",
      "import matplotlib.pyplot as plt"
     ],
     "language": "python",
     "metadata": {},
     "outputs": [],
     "prompt_number": null
    },
    {
     "cell_type": "code",
     "collapsed": false,
     "input": [
      "np.random.seed(sum(map(ord, \"palettes\")))"
     ],
     "language": "python",
     "metadata": {},
     "outputs": [],
     "prompt_number": null
    },
    {
     "cell_type": "raw",
     "metadata": {
      "raw_mimetype": "text/restructuredtext"
     },
     "source": [
      "Building color palettes with :func:`color_palette`\n",
      "--------------------------------------------------\n",
      "\n",
      "To grab the current color cycle, call the :func:`color_palette` function with no arguments. This just returns a list of r, g, b tuples:"
     ]
    },
    {
     "cell_type": "code",
     "collapsed": false,
     "input": [
      "current_palette = sns.color_palette()\n",
      "current_palette"
     ],
     "language": "python",
     "metadata": {},
     "outputs": [],
     "prompt_number": null
    },
    {
     "cell_type": "raw",
     "metadata": {
      "raw_mimetype": "text/restructuredtext"
     },
     "source": [
      "Seaborn has a small function to visualize a palette, which is useful for documentation and possibly for when you are choosing colors for your own plots.\n",
      "\n",
      "The default color scheme is based on the matplotlib default while aiming to be a bit more pleasant to look at. "
     ]
    },
    {
     "cell_type": "code",
     "collapsed": false,
     "input": [
      "sns.palplot(current_palette)"
     ],
     "language": "python",
     "metadata": {},
     "outputs": [],
     "prompt_number": null
    },
    {
     "cell_type": "raw",
     "metadata": {
      "raw_mimetype": "text/restructuredtext"
     },
     "source": [
      "There are six variations of the default theme, called ``deep``, ``muted``, ``pastel``, ``bright``, ``dark``, and ``colorblind``.\n",
      "\n",
      "It's also easy to get evenly spaced hues in the `husl` or `hls` color spaces. The former is preferred for its perceptual uniformity, although the individual colors can be relatively less attractive than their brighter versions in the latter."
     ]
    },
    {
     "cell_type": "code",
     "collapsed": false,
     "input": [
      "sns.palplot(sns.color_palette(\"husl\", 8))"
     ],
     "language": "python",
     "metadata": {},
     "outputs": [],
     "prompt_number": null
    },
    {
     "cell_type": "code",
     "collapsed": false,
     "input": [
      "sns.palplot(sns.color_palette(\"hls\", 8))"
     ],
     "language": "python",
     "metadata": {},
     "outputs": [],
     "prompt_number": null
    },
    {
     "cell_type": "raw",
     "metadata": {
      "raw_mimetype": "text/restructuredtext"
     },
     "source": [
      "You can also use the name of any matplotlib colormap, and the palette will return evenly-spaced samples from points near the extremes."
     ]
    },
    {
     "cell_type": "code",
     "collapsed": false,
     "input": [
      "sns.palplot(sns.color_palette(\"coolwarm\", 7))"
     ],
     "language": "python",
     "metadata": {},
     "outputs": [],
     "prompt_number": null
    },
    {
     "cell_type": "raw",
     "metadata": {
      "raw_mimetype": "text/restructuredtext"
     },
     "source": [
      "Palettes can be broadly categorized as *diverging* (as is the palette above), *sequential*, or *qualitative*. Diverging palettes are useful when the data has a natural, meaninfgul break-point (as with correlation values, which are spread around zero). Sequential palettes are better when the data range from \"low\" to \"high\" values."
     ]
    },
    {
     "cell_type": "code",
     "collapsed": false,
     "input": [
      "sns.palplot(sns.color_palette(\"RdPu_r\", 8))"
     ],
     "language": "python",
     "metadata": {},
     "outputs": [],
     "prompt_number": null
    },
    {
     "cell_type": "raw",
     "metadata": {
      "raw_mimetype": "text/restructuredtext"
     },
     "source": [
      "Categorial data is best represented by a qualitative palette. Seaborn fixes some problems inherent in the way matplotlib deals with the qualitative palettes from the `colorbrewer <http://colorbrewer.org>`_ package, but they behave a little differently from other seaborn palettes. If you request more colors than exist for a given qualitative palette, the colors will cycle:"
     ]
    },
    {
     "cell_type": "code",
     "collapsed": false,
     "input": [
      "sns.palplot(sns.color_palette(\"Set2\", 10))"
     ],
     "language": "python",
     "metadata": {},
     "outputs": [],
     "prompt_number": null
    },
    {
     "cell_type": "raw",
     "metadata": {
      "raw_mimetype": "text/restructuredtext"
     },
     "source": [
      "Finally, you can just pass in a list of color codes to specify a custom palette."
     ]
    },
    {
     "cell_type": "code",
     "collapsed": false,
     "input": [
      "flatui = [\"#9b59b6\", \"#3498db\", \"#95a5a6\", \"#e74c3c\", \"#34495e\", \"#2ecc71\"]\n",
      "sns.palplot(sns.color_palette(flatui))"
     ],
     "language": "python",
     "metadata": {},
     "outputs": [],
     "prompt_number": null
    },
    {
     "cell_type": "raw",
     "metadata": {
      "raw_mimetype": "text/restructuredtext"
     },
     "source": [
      ".. _cubehelix_palettes:\n",
      "\n",
      "Well-behaved sequential palettes with :func:`cubehelix_palette`\n",
      "---------------------------------------------------------------\n",
      "\n",
      "The `cubehelix <http://www.mrao.cam.ac.uk/~dag/CUBEHELIX/>`_ color palette system makes sequential palettes with a linear increase or decrease in brightness and some variation in hue. This means that the information in your colormap will be preserved when converted to black and white (for printing) or when viewed by a colorblind individual.\n",
      "\n",
      "Matplotlib has the default cubehelix version built into it:"
     ]
    },
    {
     "cell_type": "code",
     "collapsed": false,
     "input": [
      "sns.palplot(sns.color_palette(\"cubehelix\", 8))"
     ],
     "language": "python",
     "metadata": {},
     "outputs": [],
     "prompt_number": null
    },
    {
     "cell_type": "raw",
     "metadata": {},
     "source": [
      "Seaborn adds an interface to the cubehelix *system* so that you can make a variety of palettes that all have a well-behaved linear brightness ramp.\n",
      "\n",
      "The default palette returned by the seaborn :func:`cubehelix_palette` function is a bit different from the matplotlib default in that it does not rotate as far around the hue wheel or cover as wide a range of intensities. It also reverses the order so that more important values are darker:"
     ]
    },
    {
     "cell_type": "code",
     "collapsed": false,
     "input": [
      "sns.palplot(sns.cubehelix_palette(8))"
     ],
     "language": "python",
     "metadata": {},
     "outputs": [],
     "prompt_number": null
    },
    {
     "cell_type": "raw",
     "metadata": {},
     "source": [
      "Other arguments to :func:`cubehelix_palette` control how the palette looks. The two main things you'll change are the ``start`` (a value between 0 and 3) and ``rot``, or number of rotations (an arbitrary value, but probably within -1 and 1),"
     ]
    },
    {
     "cell_type": "code",
     "collapsed": false,
     "input": [
      "sns.palplot(sns.cubehelix_palette(8, start=.5, rot=-.75))"
     ],
     "language": "python",
     "metadata": {},
     "outputs": [],
     "prompt_number": null
    },
    {
     "cell_type": "raw",
     "metadata": {},
     "source": [
      "You can also control how dark and light the endpoints are and even reverse the ramp:"
     ]
    },
    {
     "cell_type": "code",
     "collapsed": false,
     "input": [
      "sns.palplot(sns.cubehelix_palette(8, start=2, rot=0, dark=0, light=.95, reverse=True))"
     ],
     "language": "python",
     "metadata": {},
     "outputs": [],
     "prompt_number": null
    },
    {
     "cell_type": "raw",
     "metadata": {},
     "source": [
      "By default you just get a list of colors, like any other seaborn palette, but you can also return the palette as a colormap object that can be passed to matplotlib functions using ``as_cmap=True``."
     ]
    },
    {
     "cell_type": "code",
     "collapsed": false,
     "input": [
      "sample = np.random.multivariate_normal([0, 0], [[1, -.5], [-.5, 1]], size=300)\n",
      "cmap = sns.cubehelix_palette(light=1, as_cmap=True)\n",
      "f, ax = plt.subplots(figsize=(6, 6))\n",
      "plt.hexbin(*sample.T, gridsize=17, cmap=cmap);"
     ],
     "language": "python",
     "metadata": {},
     "outputs": [],
     "prompt_number": null
    },
    {
     "cell_type": "raw",
     "metadata": {},
     "source": [
      "To help select good palettes or colormaps using this system, you can use the :func:`choose_cubehelix` function in a notebook to launch an interactive app that will let you play with the different parameters."
     ]
    },
    {
     "cell_type": "raw",
     "metadata": {},
     "source": [
      ".. _using_xkcd_palettes:\n",
      "    \n",
      "Using named colors from the xkcd color survey\n",
      "---------------------------------------------\n",
      "\n",
      "A while back, `xkcd <http://xkcd.com/>`_ ran a `crowdsourced effort <http://blog.xkcd.com/2010/05/03/color-survey-results/>`_ to name random RGB colors. This produced a set of `954 named colors <http://xkcd.com/color/rgb/>`_, which you can now reference in seaborn using the ``xkcd_rgb`` dictionary:"
     ]
    },
    {
     "cell_type": "code",
     "collapsed": false,
     "input": [
      "plt.plot([0, 1], [0, 1], sns.xkcd_rgb[\"pale red\"], lw=3)\n",
      "plt.plot([0, 1], [0, 2], sns.xkcd_rgb[\"medium green\"], lw=3)\n",
      "plt.plot([0, 1], [0, 3], sns.xkcd_rgb[\"denim blue\"], lw=3);"
     ],
     "language": "python",
     "metadata": {},
     "outputs": [],
     "prompt_number": null
    },
    {
     "cell_type": "raw",
     "metadata": {},
     "source": [
      "If you want to spend some time picking colors, this `interactive visualization <http://www.luminoso.com/colors/>`_ may be useful. In addition to pulling out single colors from the ``xkcd_rgb`` dictionary, you can also pass a list of names to the :func:`xkcd_palette` function:"
     ]
    },
    {
     "cell_type": "code",
     "collapsed": false,
     "input": [
      "colors = [\"windows blue\", \"amber\", \"greyish\", \"faded green\", \"dusty purple\"]\n",
      "sns.palplot(sns.xkcd_palette(colors))"
     ],
     "language": "python",
     "metadata": {},
     "outputs": [],
     "prompt_number": null
    },
    {
     "cell_type": "raw",
     "metadata": {},
     "source": [
      "Creating custom palettes with :func:`blend_palette` and :func:`dark_palette`\n",
      "----------------------------------------------------------------------------\n",
      "\n",
      "Two other functions allow you to create custom palettes. The first takes a color and creates a blend to it from a very dark gray."
     ]
    },
    {
     "cell_type": "code",
     "collapsed": false,
     "input": [
      "sns.palplot(sns.dark_palette(\"MediumPurple\"))"
     ],
     "language": "python",
     "metadata": {},
     "outputs": [],
     "prompt_number": null
    },
    {
     "cell_type": "raw",
     "metadata": {},
     "source": [
      "Note that the interpolation that is done behind the scenes is not currently performed in a color space that is compatible with human perception, so the increments of color in these palettes will not necessarily appear uniform."
     ]
    },
    {
     "cell_type": "code",
     "collapsed": false,
     "input": [
      "sns.palplot(sns.dark_palette(\"skyblue\", 8, reverse=True))"
     ],
     "language": "python",
     "metadata": {},
     "outputs": [],
     "prompt_number": null
    },
    {
     "cell_type": "raw",
     "metadata": {},
     "source": [
      "This function can also return a colormap object:"
     ]
    },
    {
     "cell_type": "code",
     "collapsed": false,
     "input": [
      "pal = sns.dark_palette(\"palegreen\", as_cmap=True)\n",
      "plt.figure(figsize=(6, 6))\n",
      "sns.kdeplot(sample, cmap=pal);"
     ],
     "language": "python",
     "metadata": {},
     "outputs": [],
     "prompt_number": null
    },
    {
     "cell_type": "raw",
     "metadata": {},
     "source": [
      "There's a related trick embedded in palette production that allows you to specify the name of a sequential ColorBrewer palette with a `\"_d\"` suffix. This will create a palette that is harmonious with the base palette, but using colors that are dark enough to draw line or contour plots."
     ]
    },
    {
     "cell_type": "code",
     "collapsed": false,
     "input": [
      "sns.palplot(sns.color_palette(\"BuPu_d\"))"
     ],
     "language": "python",
     "metadata": {},
     "outputs": [],
     "prompt_number": null
    },
    {
     "cell_type": "raw",
     "metadata": {},
     "source": [
      "A more general function for making custom palettes is :func:`blend_palette`, which interpolates between an arbitrary number of seed points. You could use this to make your own diverging palette:"
     ]
    },
    {
     "cell_type": "code",
     "collapsed": false,
     "input": [
      "sns.palplot(sns.blend_palette([\"mediumseagreen\", \"ghostwhite\", \"#4168B7\"], 9))"
     ],
     "language": "python",
     "metadata": {},
     "outputs": [],
     "prompt_number": null
    },
    {
     "cell_type": "raw",
     "metadata": {},
     "source": [
      "To create a sequential palette along a saturation scale (using :func:`desaturate`):"
     ]
    },
    {
     "cell_type": "code",
     "collapsed": false,
     "input": [
      "sns.palplot(sns.blend_palette([sns.desaturate(\"#009B76\", 0), \"#009B76\"], 5))"
     ],
     "language": "python",
     "metadata": {},
     "outputs": [],
     "prompt_number": null
    },
    {
     "cell_type": "raw",
     "metadata": {},
     "source": [
      "Or to make an ordered palette that can color large patches, like a boxplot:"
     ]
    },
    {
     "cell_type": "code",
     "collapsed": false,
     "input": [
      "sns.palplot(sns.blend_palette([\"seagreen\", \"lightblue\"]));"
     ],
     "language": "python",
     "metadata": {},
     "outputs": [],
     "prompt_number": null
    },
    {
     "cell_type": "raw",
     "metadata": {},
     "source": [
      "Using palettes in seaborn functions\n",
      "-----------------------------------\n",
      "\n",
      "Any seaborn function that draws plots with multiple color is using :func:`color_palette` behind the scenes, and will accept a palette for the ``color`` or ``palette`` argument in any of the ways shown above:"
     ]
    },
    {
     "cell_type": "code",
     "collapsed": false,
     "input": [
      "gammas = sns.load_dataset(\"gammas\")\n",
      "sns.tsplot(gammas, \"timepoint\", \"subject\", \"ROI\", \"BOLD signal\", color=\"muted\");"
     ],
     "language": "python",
     "metadata": {},
     "outputs": [],
     "prompt_number": null
    },
    {
     "cell_type": "code",
     "collapsed": false,
     "input": [
      "tips = sns.load_dataset(\"tips\")\n",
      "pal = sns.blend_palette([\"seagreen\", \"lightblue\"], 4)\n",
      "sns.violinplot(tips.total_bill, tips.day, color=pal);"
     ],
     "language": "python",
     "metadata": {},
     "outputs": [],
     "prompt_number": null
    },
    {
     "cell_type": "code",
     "collapsed": false,
     "input": [
      "sns.factorplot(\"day\", \"total_bill\", hue=\"smoker\", data=tips, kind=\"box\", palette=\"OrRd\");"
     ],
     "language": "python",
     "metadata": {},
     "outputs": [],
     "prompt_number": null
    },
    {
     "cell_type": "code",
     "collapsed": false,
     "input": [
      "attend = sns.load_dataset(\"attention\")\n",
      "sns.factorplot(\"solutions\", \"score\",\n",
      "               hue=\"subject\", col=\"attention\",\n",
      "               data=attend, ci=None,\n",
      "               legend=False, palette=\"Paired\");"
     ],
     "language": "python",
     "metadata": {},
     "outputs": [],
     "prompt_number": null
    },
    {
     "cell_type": "raw",
     "metadata": {},
     "source": [
      "Changing default palettes with :func:`set_palette`\n",
      "--------------------------------------------------\n",
      "\n",
      "The :func:`color_palette` function has a companion called :func:`set_palette`. The relationship between them is similar to the pairs covered in the :ref:`aesthetics tutorial <aesthetics_tutorial>`. :func:`set_palette` accepts the same arguments as :func:`color_palette`, but it changes the default matplotlib parameters so that the palette is used for all plots:"
     ]
    },
    {
     "cell_type": "code",
     "collapsed": false,
     "input": [
      "def sinplot(flip=1):\n",
      "    x = np.linspace(0, 14, 100)\n",
      "    for i in range(1, 7):\n",
      "        plt.plot(x, np.sin(x + i * .5) * (7 - i) * flip)"
     ],
     "language": "python",
     "metadata": {},
     "outputs": [],
     "prompt_number": null
    },
    {
     "cell_type": "code",
     "collapsed": false,
     "input": [
      "sns.set_palette(\"husl\")\n",
      "sinplot()"
     ],
     "language": "python",
     "metadata": {},
     "outputs": [],
     "prompt_number": null
    },
    {
     "cell_type": "raw",
     "metadata": {},
     "source": [
      "The :func:`color_palette` function can also be used in a ``with`` statement to temporarily change the color palette:"
     ]
    },
    {
     "cell_type": "code",
     "collapsed": false,
     "input": [
      "with sns.color_palette(\"PuBuGn_d\"):\n",
      "    sinplot()"
     ],
     "language": "python",
     "metadata": {},
     "outputs": [],
     "prompt_number": null
    },
    {
     "cell_type": "code",
     "collapsed": false,
     "input": [],
     "language": "python",
     "metadata": {},
     "outputs": [],
     "prompt_number": null
    }
   ],
   "metadata": {}
  }
 ]
}